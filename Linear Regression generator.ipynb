{
 "cells": [
  {
   "cell_type": "code",
   "execution_count": 1,
   "metadata": {},
   "outputs": [],
   "source": [
    "import numpy as np\n",
    "import pandas as pd\n",
    "import seaborn as sns\n",
    "%matplotlib inline"
   ]
  },
  {
   "cell_type": "markdown",
   "metadata": {},
   "source": [
    "## General parameters of the generator"
   ]
  },
  {
   "cell_type": "markdown",
   "metadata": {},
   "source": [
    "Setting number of columns, noise level of data - values and label."
   ]
  },
  {
   "cell_type": "code",
   "execution_count": 2,
   "metadata": {},
   "outputs": [],
   "source": [
    "colNum = 4\n",
    "rowsNum = 500\n",
    "samples = np.ndarray((rowsNum,colNum+1))\n",
    "colnames = [\"x_{}\".format(i+1) for i in range(colNum)] + [\"y\"]\n",
    "samples = pd.DataFrame(samples,columns=colnames)\n",
    "\n",
    "#generating coefitiens a_i\n",
    "a_i = 2 * np.random.rand(colNum) -1\n",
    "\n",
    "#generating value range for x_i\n",
    "x_i_range = np.random.randint(1,200, size=colNum)\n",
    "for i in range(colNum):\n",
    "    samples.iloc[:,i] = np.linspace(-x_i_range[i], x_i_range[i],rowsNum)\n",
    "\n",
    "\n",
    "#calculatning label y\n",
    "temp = np.zeros(rowsNum)\n",
    "for i in range(colNum):\n",
    "    temp = temp + a_i[i] * samples.iloc[:,i].values\n",
    "samples[\"y\"] = temp"
   ]
  },
  {
   "cell_type": "code",
   "execution_count": 3,
   "metadata": {},
   "outputs": [
    {
     "data": {
      "text/plain": [
       "array([-0.52010433,  0.38474475,  0.99904154, -0.38302322])"
      ]
     },
     "execution_count": 3,
     "metadata": {},
     "output_type": "execute_result"
    }
   ],
   "source": [
    "a_i"
   ]
  },
  {
   "cell_type": "code",
   "execution_count": 4,
   "metadata": {},
   "outputs": [
    {
     "data": {
      "text/html": [
       "<div>\n",
       "<style scoped>\n",
       "    .dataframe tbody tr th:only-of-type {\n",
       "        vertical-align: middle;\n",
       "    }\n",
       "\n",
       "    .dataframe tbody tr th {\n",
       "        vertical-align: top;\n",
       "    }\n",
       "\n",
       "    .dataframe thead th {\n",
       "        text-align: right;\n",
       "    }\n",
       "</style>\n",
       "<table border=\"1\" class=\"dataframe\">\n",
       "  <thead>\n",
       "    <tr style=\"text-align: right;\">\n",
       "      <th></th>\n",
       "      <th>x_1</th>\n",
       "      <th>x_2</th>\n",
       "      <th>x_3</th>\n",
       "      <th>x_4</th>\n",
       "      <th>y</th>\n",
       "    </tr>\n",
       "  </thead>\n",
       "  <tbody>\n",
       "    <tr>\n",
       "      <th>0</th>\n",
       "      <td>-77.968413</td>\n",
       "      <td>-82.629139</td>\n",
       "      <td>-15.496568</td>\n",
       "      <td>-90.963389</td>\n",
       "      <td>31.417604</td>\n",
       "    </tr>\n",
       "    <tr>\n",
       "      <th>1</th>\n",
       "      <td>-81.546195</td>\n",
       "      <td>-81.020560</td>\n",
       "      <td>-14.476769</td>\n",
       "      <td>-96.381928</td>\n",
       "      <td>32.145089</td>\n",
       "    </tr>\n",
       "    <tr>\n",
       "      <th>2</th>\n",
       "      <td>-79.997533</td>\n",
       "      <td>-83.695176</td>\n",
       "      <td>-14.493022</td>\n",
       "      <td>-95.478868</td>\n",
       "      <td>31.258628</td>\n",
       "    </tr>\n",
       "    <tr>\n",
       "      <th>3</th>\n",
       "      <td>-77.102145</td>\n",
       "      <td>-81.838301</td>\n",
       "      <td>-15.002482</td>\n",
       "      <td>-93.703990</td>\n",
       "      <td>31.570893</td>\n",
       "    </tr>\n",
       "    <tr>\n",
       "      <th>4</th>\n",
       "      <td>-78.449631</td>\n",
       "      <td>-82.893335</td>\n",
       "      <td>-15.250881</td>\n",
       "      <td>-96.311999</td>\n",
       "      <td>31.174160</td>\n",
       "    </tr>\n",
       "    <tr>\n",
       "      <th>...</th>\n",
       "      <td>...</td>\n",
       "      <td>...</td>\n",
       "      <td>...</td>\n",
       "      <td>...</td>\n",
       "      <td>...</td>\n",
       "    </tr>\n",
       "    <tr>\n",
       "      <th>495</th>\n",
       "      <td>78.055944</td>\n",
       "      <td>78.106377</td>\n",
       "      <td>14.996470</td>\n",
       "      <td>95.225699</td>\n",
       "      <td>-31.136467</td>\n",
       "    </tr>\n",
       "    <tr>\n",
       "      <th>496</th>\n",
       "      <td>75.898878</td>\n",
       "      <td>84.423196</td>\n",
       "      <td>15.026562</td>\n",
       "      <td>92.210382</td>\n",
       "      <td>-30.808498</td>\n",
       "    </tr>\n",
       "    <tr>\n",
       "      <th>497</th>\n",
       "      <td>75.268190</td>\n",
       "      <td>82.911804</td>\n",
       "      <td>14.453894</td>\n",
       "      <td>92.693575</td>\n",
       "      <td>-31.284640</td>\n",
       "    </tr>\n",
       "    <tr>\n",
       "      <th>498</th>\n",
       "      <td>79.979159</td>\n",
       "      <td>82.732805</td>\n",
       "      <td>15.002118</td>\n",
       "      <td>94.361616</td>\n",
       "      <td>-31.724023</td>\n",
       "    </tr>\n",
       "    <tr>\n",
       "      <th>499</th>\n",
       "      <td>79.301648</td>\n",
       "      <td>80.005746</td>\n",
       "      <td>14.884033</td>\n",
       "      <td>96.514821</td>\n",
       "      <td>-30.860728</td>\n",
       "    </tr>\n",
       "  </tbody>\n",
       "</table>\n",
       "<p>500 rows × 5 columns</p>\n",
       "</div>"
      ],
      "text/plain": [
       "           x_1        x_2        x_3        x_4          y\n",
       "0   -77.968413 -82.629139 -15.496568 -90.963389  31.417604\n",
       "1   -81.546195 -81.020560 -14.476769 -96.381928  32.145089\n",
       "2   -79.997533 -83.695176 -14.493022 -95.478868  31.258628\n",
       "3   -77.102145 -81.838301 -15.002482 -93.703990  31.570893\n",
       "4   -78.449631 -82.893335 -15.250881 -96.311999  31.174160\n",
       "..         ...        ...        ...        ...        ...\n",
       "495  78.055944  78.106377  14.996470  95.225699 -31.136467\n",
       "496  75.898878  84.423196  15.026562  92.210382 -30.808498\n",
       "497  75.268190  82.911804  14.453894  92.693575 -31.284640\n",
       "498  79.979159  82.732805  15.002118  94.361616 -31.724023\n",
       "499  79.301648  80.005746  14.884033  96.514821 -30.860728\n",
       "\n",
       "[500 rows x 5 columns]"
      ]
     },
     "execution_count": 4,
     "metadata": {},
     "output_type": "execute_result"
    }
   ],
   "source": [
    "#adding noise\n",
    "#todo later\n",
    "noiselevel = 0.02\n",
    "samples_noise = samples.apply(lambda x : np.random.normal(loc=x,scale=abs(x*noiselevel)))\n",
    "samples_noise\n",
    "\n",
    "\n"
   ]
  },
  {
   "cell_type": "code",
   "execution_count": 5,
   "metadata": {},
   "outputs": [],
   "source": [
    "#generating data frame\n",
    "samples_noise.to_csv(\"linear_reg_data.csv\",index=False,sep=\";\",decimal=\",\")"
   ]
  },
  {
   "cell_type": "code",
   "execution_count": 6,
   "metadata": {},
   "outputs": [
    {
     "data": {
      "text/plain": [
       "x_1    0.005399\n",
       "x_2   -0.000676\n",
       "x_3    0.016173\n",
       "x_4   -0.062938\n",
       "y      0.001742\n",
       "dtype: float64"
      ]
     },
     "execution_count": 6,
     "metadata": {},
     "output_type": "execute_result"
    }
   ],
   "source": [
    "(samples - samples_noise).mean()\n"
   ]
  },
  {
   "cell_type": "code",
   "execution_count": 10,
   "metadata": {},
   "outputs": [
    {
     "data": {
      "text/plain": [
       "<matplotlib.axes._subplots.AxesSubplot at 0x221c5ca89c8>"
      ]
     },
     "execution_count": 10,
     "metadata": {},
     "output_type": "execute_result"
    },
    {
     "data": {
      "image/png": "[encoded data removed]",
      "text/plain": [
       "<Figure size 432x288 with 1 Axes>"
      ]
     },
     "metadata": {
      "needs_background": "light"
     },
     "output_type": "display_data"
    }
   ],
   "source": [
    "sns.distplot(samples_noise,kde=False, bins=40)"
   ]
  },
  {
   "cell_type": "code",
   "execution_count": null,
   "metadata": {},
   "outputs": [],
   "source": []
  }
 ],
 "metadata": {
  "kernelspec": {
   "display_name": "Python 3",
   "language": "python",
   "name": "python3"
  },
  "language_info": {
   "codemirror_mode": {
    "name": "ipython",
    "version": 3
   },
   "file_extension": ".py",
   "mimetype": "text/x-python",
   "name": "python",
   "nbconvert_exporter": "python",
   "pygments_lexer": "ipython3",
   "version": "3.7.6"
  }
 },
 "nbformat": 4,
 "nbformat_minor": 4
}
