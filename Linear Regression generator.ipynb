{
 "cells": [
  {
   "cell_type": "code",
   "execution_count": 12,
   "metadata": {},
   "outputs": [],
   "source": [
    "#author: Waldemar Wieczorek\n",
    "import numpy as np\n",
    "import pandas as pd\n",
    "import seaborn as sns\n",
    "%matplotlib inline\n",
    "\n",
    "import os\n",
    "datafolder = \"data\""
   ]
  },
  {
   "cell_type": "markdown",
   "metadata": {},
   "source": [
    "# Linear regression data generator\n",
    "\n",
    "This file contains the generator of linear data following the relation:\n",
    "$$ y = \\sum^N_i a_i x_i + b_i$$\n",
    "\n",
    "the range of each variable is also random. It goes from -x_i_range to x_i_range with equal step. Later I added a noise.\n",
    "\n"
   ]
  },
  {
   "cell_type": "markdown",
   "metadata": {},
   "source": [
    "### Genareting data without noise"
   ]
  },
  {
   "cell_type": "code",
   "execution_count": 6,
   "metadata": {},
   "outputs": [],
   "source": [
    "colNum = 4 # number of variables\n",
    "rowsNum = 500 # number of points\n",
    "\n",
    "# add seed?\n",
    "\n",
    "samples = np.ndarray((rowsNum,colNum+1))\n",
    "colnames = [\"x_{}\".format(i+1) for i in range(colNum)] + [\"y\"]\n",
    "samples = pd.DataFrame(samples,columns=colnames)\n",
    "\n",
    "#generating random coefitiens a_i\n",
    "a_i = 2 * np.random.rand(colNum) -1\n",
    "\n",
    "#generating randome value range for x_i\n",
    "# variable x_i varies form -x_i_range, + x_i_range\n",
    "x_i_range = np.random.randint(1,200, size=colNum)\n",
    "for i in range(colNum):\n",
    "    samples.iloc[:,i] = np.linspace(-x_i_range[i], x_i_range[i],rowsNum)\n",
    "\n",
    "\n",
    "#calculatning label y\n",
    "temp = np.zeros(rowsNum)\n",
    "for i in range(colNum):\n",
    "    temp = temp + a_i[i] * samples.iloc[:,i].values\n",
    "samples[\"y\"] = temp"
   ]
  },
  {
   "cell_type": "code",
   "execution_count": 7,
   "metadata": {},
   "outputs": [
    {
     "data": {
      "text/plain": [
       "array([-0.03014739, -0.61496401,  0.20679079,  0.92748701])"
      ]
     },
     "execution_count": 7,
     "metadata": {},
     "output_type": "execute_result"
    }
   ],
   "source": [
    "#random coefficients\n",
    "a_i"
   ]
  },
  {
   "cell_type": "markdown",
   "metadata": {},
   "source": [
    "### Data without noise"
   ]
  },
  {
   "cell_type": "code",
   "execution_count": 8,
   "metadata": {},
   "outputs": [
    {
     "data": {
      "text/html": [
       "<div>\n",
       "<style scoped>\n",
       "    .dataframe tbody tr th:only-of-type {\n",
       "        vertical-align: middle;\n",
       "    }\n",
       "\n",
       "    .dataframe tbody tr th {\n",
       "        vertical-align: top;\n",
       "    }\n",
       "\n",
       "    .dataframe thead th {\n",
       "        text-align: right;\n",
       "    }\n",
       "</style>\n",
       "<table border=\"1\" class=\"dataframe\">\n",
       "  <thead>\n",
       "    <tr style=\"text-align: right;\">\n",
       "      <th></th>\n",
       "      <th>x_1</th>\n",
       "      <th>x_2</th>\n",
       "      <th>x_3</th>\n",
       "      <th>x_4</th>\n",
       "      <th>y</th>\n",
       "    </tr>\n",
       "  </thead>\n",
       "  <tbody>\n",
       "    <tr>\n",
       "      <th>0</th>\n",
       "      <td>-42.000000</td>\n",
       "      <td>-63.000000</td>\n",
       "      <td>-54.000000</td>\n",
       "      <td>-66.000000</td>\n",
       "      <td>-32.371922</td>\n",
       "    </tr>\n",
       "    <tr>\n",
       "      <th>1</th>\n",
       "      <td>-41.831663</td>\n",
       "      <td>-62.747495</td>\n",
       "      <td>-53.783567</td>\n",
       "      <td>-65.735471</td>\n",
       "      <td>-32.242175</td>\n",
       "    </tr>\n",
       "    <tr>\n",
       "      <th>2</th>\n",
       "      <td>-41.663327</td>\n",
       "      <td>-62.494990</td>\n",
       "      <td>-53.567134</td>\n",
       "      <td>-65.470942</td>\n",
       "      <td>-32.112428</td>\n",
       "    </tr>\n",
       "    <tr>\n",
       "      <th>3</th>\n",
       "      <td>-41.494990</td>\n",
       "      <td>-62.242485</td>\n",
       "      <td>-53.350701</td>\n",
       "      <td>-65.206413</td>\n",
       "      <td>-31.982681</td>\n",
       "    </tr>\n",
       "    <tr>\n",
       "      <th>4</th>\n",
       "      <td>-41.326653</td>\n",
       "      <td>-61.989980</td>\n",
       "      <td>-53.134269</td>\n",
       "      <td>-64.941884</td>\n",
       "      <td>-31.852934</td>\n",
       "    </tr>\n",
       "    <tr>\n",
       "      <th>...</th>\n",
       "      <td>...</td>\n",
       "      <td>...</td>\n",
       "      <td>...</td>\n",
       "      <td>...</td>\n",
       "      <td>...</td>\n",
       "    </tr>\n",
       "    <tr>\n",
       "      <th>495</th>\n",
       "      <td>41.326653</td>\n",
       "      <td>61.989980</td>\n",
       "      <td>53.134269</td>\n",
       "      <td>64.941884</td>\n",
       "      <td>31.852934</td>\n",
       "    </tr>\n",
       "    <tr>\n",
       "      <th>496</th>\n",
       "      <td>41.494990</td>\n",
       "      <td>62.242485</td>\n",
       "      <td>53.350701</td>\n",
       "      <td>65.206413</td>\n",
       "      <td>31.982681</td>\n",
       "    </tr>\n",
       "    <tr>\n",
       "      <th>497</th>\n",
       "      <td>41.663327</td>\n",
       "      <td>62.494990</td>\n",
       "      <td>53.567134</td>\n",
       "      <td>65.470942</td>\n",
       "      <td>32.112428</td>\n",
       "    </tr>\n",
       "    <tr>\n",
       "      <th>498</th>\n",
       "      <td>41.831663</td>\n",
       "      <td>62.747495</td>\n",
       "      <td>53.783567</td>\n",
       "      <td>65.735471</td>\n",
       "      <td>32.242175</td>\n",
       "    </tr>\n",
       "    <tr>\n",
       "      <th>499</th>\n",
       "      <td>42.000000</td>\n",
       "      <td>63.000000</td>\n",
       "      <td>54.000000</td>\n",
       "      <td>66.000000</td>\n",
       "      <td>32.371922</td>\n",
       "    </tr>\n",
       "  </tbody>\n",
       "</table>\n",
       "<p>500 rows × 5 columns</p>\n",
       "</div>"
      ],
      "text/plain": [
       "           x_1        x_2        x_3        x_4          y\n",
       "0   -42.000000 -63.000000 -54.000000 -66.000000 -32.371922\n",
       "1   -41.831663 -62.747495 -53.783567 -65.735471 -32.242175\n",
       "2   -41.663327 -62.494990 -53.567134 -65.470942 -32.112428\n",
       "3   -41.494990 -62.242485 -53.350701 -65.206413 -31.982681\n",
       "4   -41.326653 -61.989980 -53.134269 -64.941884 -31.852934\n",
       "..         ...        ...        ...        ...        ...\n",
       "495  41.326653  61.989980  53.134269  64.941884  31.852934\n",
       "496  41.494990  62.242485  53.350701  65.206413  31.982681\n",
       "497  41.663327  62.494990  53.567134  65.470942  32.112428\n",
       "498  41.831663  62.747495  53.783567  65.735471  32.242175\n",
       "499  42.000000  63.000000  54.000000  66.000000  32.371922\n",
       "\n",
       "[500 rows x 5 columns]"
      ]
     },
     "execution_count": 8,
     "metadata": {},
     "output_type": "execute_result"
    }
   ],
   "source": [
    "samples"
   ]
  },
  {
   "cell_type": "markdown",
   "metadata": {},
   "source": [
    "Sample plot for x_1 - straight line"
   ]
  },
  {
   "cell_type": "code",
   "execution_count": 18,
   "metadata": {},
   "outputs": [
    {
     "data": {
      "image/png": "[encoded data removed]",
      "text/plain": [
       "<Figure size 432x288 with 1 Axes>"
      ]
     },
     "metadata": {
      "needs_background": "light"
     },
     "output_type": "display_data"
    }
   ],
   "source": [
    "samples[\"x_1\"].plot();"
   ]
  },
  {
   "cell_type": "markdown",
   "metadata": {},
   "source": [
    "### Adding noise to data"
   ]
  },
  {
   "cell_type": "code",
   "execution_count": 38,
   "metadata": {},
   "outputs": [
    {
     "data": {
      "text/html": [
       "<div>\n",
       "<style scoped>\n",
       "    .dataframe tbody tr th:only-of-type {\n",
       "        vertical-align: middle;\n",
       "    }\n",
       "\n",
       "    .dataframe tbody tr th {\n",
       "        vertical-align: top;\n",
       "    }\n",
       "\n",
       "    .dataframe thead th {\n",
       "        text-align: right;\n",
       "    }\n",
       "</style>\n",
       "<table border=\"1\" class=\"dataframe\">\n",
       "  <thead>\n",
       "    <tr style=\"text-align: right;\">\n",
       "      <th></th>\n",
       "      <th>x_1</th>\n",
       "      <th>x_2</th>\n",
       "      <th>x_3</th>\n",
       "      <th>x_4</th>\n",
       "      <th>y</th>\n",
       "    </tr>\n",
       "  </thead>\n",
       "  <tbody>\n",
       "    <tr>\n",
       "      <th>0</th>\n",
       "      <td>-41.715334</td>\n",
       "      <td>-65.182802</td>\n",
       "      <td>-56.890900</td>\n",
       "      <td>-67.773498</td>\n",
       "      <td>-37.367952</td>\n",
       "    </tr>\n",
       "    <tr>\n",
       "      <th>1</th>\n",
       "      <td>-47.342083</td>\n",
       "      <td>-55.963356</td>\n",
       "      <td>-50.958077</td>\n",
       "      <td>-62.633526</td>\n",
       "      <td>-27.803749</td>\n",
       "    </tr>\n",
       "    <tr>\n",
       "      <th>2</th>\n",
       "      <td>-41.749363</td>\n",
       "      <td>-63.283907</td>\n",
       "      <td>-51.146310</td>\n",
       "      <td>-60.999529</td>\n",
       "      <td>-33.592732</td>\n",
       "    </tr>\n",
       "    <tr>\n",
       "      <th>3</th>\n",
       "      <td>-43.645760</td>\n",
       "      <td>-62.236417</td>\n",
       "      <td>-44.611825</td>\n",
       "      <td>-66.307404</td>\n",
       "      <td>-31.138879</td>\n",
       "    </tr>\n",
       "    <tr>\n",
       "      <th>4</th>\n",
       "      <td>-42.870374</td>\n",
       "      <td>-65.969086</td>\n",
       "      <td>-50.948951</td>\n",
       "      <td>-69.082923</td>\n",
       "      <td>-33.750899</td>\n",
       "    </tr>\n",
       "    <tr>\n",
       "      <th>...</th>\n",
       "      <td>...</td>\n",
       "      <td>...</td>\n",
       "      <td>...</td>\n",
       "      <td>...</td>\n",
       "      <td>...</td>\n",
       "    </tr>\n",
       "    <tr>\n",
       "      <th>495</th>\n",
       "      <td>37.096913</td>\n",
       "      <td>58.513740</td>\n",
       "      <td>54.563351</td>\n",
       "      <td>62.148911</td>\n",
       "      <td>28.843931</td>\n",
       "    </tr>\n",
       "    <tr>\n",
       "      <th>496</th>\n",
       "      <td>40.042943</td>\n",
       "      <td>63.201086</td>\n",
       "      <td>51.796953</td>\n",
       "      <td>65.039032</td>\n",
       "      <td>28.679954</td>\n",
       "    </tr>\n",
       "    <tr>\n",
       "      <th>497</th>\n",
       "      <td>41.545086</td>\n",
       "      <td>57.330297</td>\n",
       "      <td>55.433141</td>\n",
       "      <td>74.159478</td>\n",
       "      <td>28.257894</td>\n",
       "    </tr>\n",
       "    <tr>\n",
       "      <th>498</th>\n",
       "      <td>44.875773</td>\n",
       "      <td>70.925529</td>\n",
       "      <td>52.952772</td>\n",
       "      <td>71.690564</td>\n",
       "      <td>36.726300</td>\n",
       "    </tr>\n",
       "    <tr>\n",
       "      <th>499</th>\n",
       "      <td>47.338340</td>\n",
       "      <td>64.453006</td>\n",
       "      <td>56.988299</td>\n",
       "      <td>60.484679</td>\n",
       "      <td>28.778872</td>\n",
       "    </tr>\n",
       "  </tbody>\n",
       "</table>\n",
       "<p>500 rows × 5 columns</p>\n",
       "</div>"
      ],
      "text/plain": [
       "           x_1        x_2        x_3        x_4          y\n",
       "0   -41.715334 -65.182802 -56.890900 -67.773498 -37.367952\n",
       "1   -47.342083 -55.963356 -50.958077 -62.633526 -27.803749\n",
       "2   -41.749363 -63.283907 -51.146310 -60.999529 -33.592732\n",
       "3   -43.645760 -62.236417 -44.611825 -66.307404 -31.138879\n",
       "4   -42.870374 -65.969086 -50.948951 -69.082923 -33.750899\n",
       "..         ...        ...        ...        ...        ...\n",
       "495  37.096913  58.513740  54.563351  62.148911  28.843931\n",
       "496  40.042943  63.201086  51.796953  65.039032  28.679954\n",
       "497  41.545086  57.330297  55.433141  74.159478  28.257894\n",
       "498  44.875773  70.925529  52.952772  71.690564  36.726300\n",
       "499  47.338340  64.453006  56.988299  60.484679  28.778872\n",
       "\n",
       "[500 rows x 5 columns]"
      ]
     },
     "execution_count": 38,
     "metadata": {},
     "output_type": "execute_result"
    }
   ],
   "source": [
    "#adding noise\n",
    "noiselevel = 0.08\n",
    "samples_noise = samples.apply(lambda x : np.random.normal(loc=x,scale=abs(x*noiselevel)))\n",
    "samples_noise"
   ]
  },
  {
   "cell_type": "markdown",
   "metadata": {},
   "source": [
    "### Data visualisation and saving"
   ]
  },
  {
   "cell_type": "markdown",
   "metadata": {},
   "source": [
    "Plot of data with noise "
   ]
  },
  {
   "cell_type": "code",
   "execution_count": 39,
   "metadata": {},
   "outputs": [
    {
     "data": {
      "image/png": "[encoded data removed]",
      "text/plain": [
       "<Figure size 432x288 with 1 Axes>"
      ]
     },
     "metadata": {
      "needs_background": "light"
     },
     "output_type": "display_data"
    }
   ],
   "source": [
    "samples_noise[\"x_1\"].plot();"
   ]
  },
  {
   "cell_type": "code",
   "execution_count": 40,
   "metadata": {},
   "outputs": [],
   "source": [
    "#generating data frame\n",
    "#to do clever way to write data\n",
    "filename = \"linear_reg_data_noise_{}.csv\".format(int(noiselevel * 100))\n",
    "path = os.path.join(datafolder,filename)\n",
    "samples_noise.to_csv(path,index=False)"
   ]
  },
  {
   "cell_type": "code",
   "execution_count": 41,
   "metadata": {},
   "outputs": [
    {
     "data": {
      "image/png": "[encoded data removed]",
      "text/plain": [
       "<Figure size 432x288 with 1 Axes>"
      ]
     },
     "metadata": {
      "needs_background": "light"
     },
     "output_type": "display_data"
    }
   ],
   "source": [
    "# distribution of added noise\n",
    "sns.distplot(samples - samples_noise,kde=False, bins=40);"
   ]
  },
  {
   "cell_type": "markdown",
   "metadata": {},
   "source": [
    "For further analisys I have created two files with noise level 8 and 15 %."
   ]
  },
  {
   "cell_type": "code",
   "execution_count": null,
   "metadata": {},
   "outputs": [],
   "source": []
  }
 ],
 "metadata": {
  "kernelspec": {
   "display_name": "Python 3",
   "language": "python",
   "name": "python3"
  },
  "language_info": {
   "codemirror_mode": {
    "name": "ipython",
    "version": 3
   },
   "file_extension": ".py",
   "mimetype": "text/x-python",
   "name": "python",
   "nbconvert_exporter": "python",
   "pygments_lexer": "ipython3",
   "version": "3.7.1"
  }
 },
 "nbformat": 4,
 "nbformat_minor": 4
}
